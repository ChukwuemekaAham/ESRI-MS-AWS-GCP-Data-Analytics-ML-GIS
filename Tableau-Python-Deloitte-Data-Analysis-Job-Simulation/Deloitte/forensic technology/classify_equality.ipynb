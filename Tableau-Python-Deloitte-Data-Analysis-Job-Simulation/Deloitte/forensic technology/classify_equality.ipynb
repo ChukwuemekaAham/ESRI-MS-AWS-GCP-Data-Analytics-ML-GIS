{
 "cells": [
  {
   "cell_type": "code",
   "execution_count": 8,
   "metadata": {},
   "outputs": [
    {
     "name": "stdout",
     "output_type": "stream",
     "text": [
      "Requirement already satisfied: pandas in c:\\users\\ahamc\\appdata\\local\\programs\\python\\python37-32\\lib\\site-packages (0.25.0)"
     ]
    },
    {
     "name": "stderr",
     "output_type": "stream",
     "text": [
      "WARNING: You are using pip version 19.3.1; however, version 24.0 is available.\n",
      "You should consider upgrading via the 'python -m pip install --upgrade pip' command.\n"
     ]
    },
    {
     "name": "stdout",
     "output_type": "stream",
     "text": [
      "\n",
      "Requirement already satisfied: pytz>=2017.2 in c:\\users\\ahamc\\appdata\\local\\programs\\python\\python37-32\\lib\\site-packages (from pandas) (2019.1)\n",
      "Requirement already satisfied: python-dateutil>=2.6.1 in c:\\users\\ahamc\\appdata\\local\\programs\\python\\python37-32\\lib\\site-packages (from pandas) (2.8.2)\n",
      "Requirement already satisfied: numpy>=1.13.3 in c:\\users\\ahamc\\appdata\\local\\programs\\python\\python37-32\\lib\\site-packages (from pandas) (1.16.4)\n",
      "Requirement already satisfied: six>=1.5 in c:\\users\\ahamc\\appdata\\local\\programs\\python\\python37-32\\lib\\site-packages (from python-dateutil>=2.6.1->pandas) (1.12.0)\n",
      "Collecting openpyxl\n",
      "  Downloading https://files.pythonhosted.org/packages/58/d9/796181a30827b12101786c21301f0f4536597a9249530916b1fdb5bbad91/openpyxl-3.1.3-py2.py3-none-any.whl (251kB)\n",
      "Collecting et-xmlfile\n",
      "  Downloading https://files.pythonhosted.org/packages/96/c2/3dd434b0108730014f1b96fd286040dc3bcb70066346f7e01ec2ac95865f/et_xmlfile-1.1.0-py3-none-any.whl\n",
      "Installing collected packages: et-xmlfile, openpyxl\n",
      "Successfully installed et-xmlfile-1.1.0 openpyxl-3.1.3\n"
     ]
    },
    {
     "name": "stderr",
     "output_type": "stream",
     "text": [
      "WARNING: Keyring is skipped due to an exception: entry_points() got an unexpected keyword argument 'group'\n",
      "WARNING: Keyring is skipped due to an exception: entry_points() got an unexpected keyword argument 'group'\n",
      "  WARNING: Keyring is skipped due to an exception: entry_points() got an unexpected keyword argument 'group'\n",
      "WARNING: Keyring is skipped due to an exception: entry_points() got an unexpected keyword argument 'group'\n",
      "WARNING: Keyring is skipped due to an exception: entry_points() got an unexpected keyword argument 'group'\n",
      "  WARNING: Keyring is skipped due to an exception: entry_points() got an unexpected keyword argument 'group'\n",
      "WARNING: You are using pip version 19.3.1; however, version 24.0 is available.\n",
      "You should consider upgrading via the 'python -m pip install --upgrade pip' command.\n"
     ]
    }
   ],
   "source": [
    "!pip install pandas\n",
    "!pip install openpyxl"
   ]
  },
  {
   "cell_type": "code",
   "execution_count": 1,
   "metadata": {},
   "outputs": [],
   "source": [
    "import pandas as pd"
   ]
  },
  {
   "cell_type": "code",
   "execution_count": 2,
   "metadata": {},
   "outputs": [],
   "source": [
    "FILE=\"./Task 5 Equality Table.xlsx\""
   ]
  },
  {
   "cell_type": "code",
   "execution_count": 3,
   "metadata": {},
   "outputs": [
    {
     "name": "stdout",
     "output_type": "stream",
     "text": [
      "Classification complete.  Results saved to Equality Table_classified.xlsx\n"
     ]
    }
   ],
   "source": [
    "\n",
    "def classify_equality(score):\n",
    "    \"\"\"\n",
    "    Classifies the equality score into three categories:\n",
    "    Fair (+-10), Unfair (<-10 AND >10), Highly Discriminative (<-20 AND >20)\n",
    "    \"\"\"\n",
    "    if -10 <= score <= 10:\n",
    "        return \"Fair\"\n",
    "    elif score < -20 or score > 20:\n",
    "        return \"Highly Discriminative\"\n",
    "    else:\n",
    "        return \"Unfair\"\n",
    "\n",
    "# Load the Excel file\n",
    "try:\n",
    "    df = pd.read_excel(FILE, engine='openpyxl')\n",
    "except FileNotFoundError:\n",
    "    print(\"Error: file not found.  Make sure the file is in the same directory as the notebook, or provide the full file path.\")\n",
    "    exit()\n",
    "\n",
    "\n",
    "# Apply the classification function to create the new column\n",
    "df[\"Equality class\"] = df[\"Equality Score\"].apply(classify_equality)\n",
    "\n",
    "# Save the updated DataFrame back to Excel\n",
    "df.to_excel(\"Equality Table_classified.xlsx\", index=False) # Create a new file\n",
    "\n",
    "print(\"Classification complete.  Results saved to Equality Table_classified.xlsx\")"
   ]
  }
 ],
 "metadata": {
  "kernelspec": {
   "display_name": "Python 3",
   "language": "python",
   "name": "python3"
  },
  "language_info": {
   "codemirror_mode": {
    "name": "ipython",
    "version": 3
   },
   "file_extension": ".py",
   "mimetype": "text/x-python",
   "name": "python",
   "nbconvert_exporter": "python",
   "pygments_lexer": "ipython3",
   "version": "3.10.0"
  },
  "orig_nbformat": 4
 },
 "nbformat": 4,
 "nbformat_minor": 2
}
