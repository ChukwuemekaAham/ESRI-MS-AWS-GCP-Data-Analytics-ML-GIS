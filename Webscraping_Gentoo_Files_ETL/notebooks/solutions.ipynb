{
 "cells": [
  {
   "cell_type": "markdown",
   "metadata": {},
   "source": [
    "# **Gentoo Distro File Web Scrapping ETL**"
   ]
  },
  {
   "cell_type": "markdown",
   "metadata": {},
   "source": [
    "### ● Script to produce a list of every file under - https://gentoo.osuosl.org/distfiles/"
   ]
  },
  {
   "cell_type": "code",
   "execution_count": 1,
   "metadata": {},
   "outputs": [],
   "source": [
    "import requests\n",
    "from bs4 import BeautifulSoup\n",
    "import pandas as pd"
   ]
  },
  {
   "cell_type": "code",
   "execution_count": 30,
   "metadata": {},
   "outputs": [],
   "source": [
    "base_url = \"https://gentoo.osuosl.org/distfiles/\"\n",
    "output_filename = \"./gentoo_distfiles_list.csv\""
   ]
  },
  {
   "cell_type": "code",
   "execution_count": null,
   "metadata": {},
   "outputs": [
    {
     "data": {
      "text/plain": [
       "'Name: 0a/, Last Modified: 2025-02-23 15:53, Size: -'"
      ]
     },
     "metadata": {},
     "output_type": "display_data"
    },
    {
     "data": {
      "text/plain": [
       "'Name: 0b/, Last Modified: 2025-02-22 23:52, Size: -'"
      ]
     },
     "metadata": {},
     "output_type": "display_data"
    },
    {
     "data": {
      "text/plain": [
       "'Name: 0c/, Last Modified: 2025-02-25 08:52, Size: -'"
      ]
     },
     "metadata": {},
     "output_type": "display_data"
    },
    {
     "data": {
      "text/plain": [
       "'Name: 0d/, Last Modified: 2025-02-25 08:52, Size: -'"
      ]
     },
     "metadata": {},
     "output_type": "display_data"
    },
    {
     "data": {
      "text/plain": [
       "'Name: 0e/, Last Modified: 2025-02-24 08:52, Size: -'"
      ]
     },
     "metadata": {},
     "output_type": "display_data"
    },
    {
     "data": {
      "text/plain": [
       "'Name: 0f/, Last Modified: 2025-02-23 04:53, Size: -'"
      ]
     },
     "metadata": {},
     "output_type": "display_data"
    },
    {
     "data": {
      "text/plain": [
       "'Name: 00/, Last Modified: 2025-02-23 21:54, Size: -'"
      ]
     },
     "metadata": {},
     "output_type": "display_data"
    },
    {
     "data": {
      "text/plain": [
       "'Name: 01/, Last Modified: 2025-02-22 23:52, Size: -'"
      ]
     },
     "metadata": {},
     "output_type": "display_data"
    },
    {
     "data": {
      "text/plain": [
       "'Name: 02/, Last Modified: 2025-02-24 22:54, Size: -'"
      ]
     },
     "metadata": {},
     "output_type": "display_data"
    },
    {
     "data": {
      "text/plain": [
       "'Name: 03/, Last Modified: 2025-02-23 21:54, Size: -'"
      ]
     },
     "metadata": {},
     "output_type": "display_data"
    },
    {
     "data": {
      "text/plain": [
       "'Name: 04/, Last Modified: 2025-02-24 16:54, Size: -'"
      ]
     },
     "metadata": {},
     "output_type": "display_data"
    },
    {
     "data": {
      "text/plain": [
       "'Name: 05/, Last Modified: 2025-02-23 22:52, Size: -'"
      ]
     },
     "metadata": {},
     "output_type": "display_data"
    },
    {
     "data": {
      "text/plain": [
       "'Name: 06/, Last Modified: 2025-02-25 08:52, Size: -'"
      ]
     },
     "metadata": {},
     "output_type": "display_data"
    },
    {
     "data": {
      "text/plain": [
       "'Name: 07/, Last Modified: 2025-02-23 20:53, Size: -'"
      ]
     },
     "metadata": {},
     "output_type": "display_data"
    },
    {
     "data": {
      "text/plain": [
       "'Name: 08/, Last Modified: 2025-02-23 05:52, Size: -'"
      ]
     },
     "metadata": {},
     "output_type": "display_data"
    },
    {
     "data": {
      "text/plain": [
       "'Name: 09/, Last Modified: 2025-02-25 08:52, Size: -'"
      ]
     },
     "metadata": {},
     "output_type": "display_data"
    },
    {
     "data": {
      "text/plain": [
       "'Name: 1a/, Last Modified: 2025-02-24 12:53, Size: -'"
      ]
     },
     "metadata": {},
     "output_type": "display_data"
    },
    {
     "data": {
      "text/plain": [
       "'Name: 1b/, Last Modified: 2025-02-23 11:58, Size: -'"
      ]
     },
     "metadata": {},
     "output_type": "display_data"
    },
    {
     "data": {
      "text/plain": [
       "'Name: 1c/, Last Modified: 2025-02-24 16:54, Size: -'"
      ]
     },
     "metadata": {},
     "output_type": "display_data"
    },
    {
     "data": {
      "text/plain": [
       "'Name: 1d/, Last Modified: 2025-02-22 23:52, Size: -'"
      ]
     },
     "metadata": {},
     "output_type": "display_data"
    },
    {
     "data": {
      "text/plain": [
       "'Name: 1e/, Last Modified: 2025-02-22 23:52, Size: -'"
      ]
     },
     "metadata": {},
     "output_type": "display_data"
    },
    {
     "data": {
      "text/plain": [
       "'Name: 1f/, Last Modified: 2025-02-23 00:52, Size: -'"
      ]
     },
     "metadata": {},
     "output_type": "display_data"
    },
    {
     "data": {
      "text/plain": [
       "'Name: 2a/, Last Modified: 2025-02-24 01:53, Size: -'"
      ]
     },
     "metadata": {},
     "output_type": "display_data"
    },
    {
     "data": {
      "text/plain": [
       "'Name: 2b/, Last Modified: 2025-02-23 02:52, Size: -'"
      ]
     },
     "metadata": {},
     "output_type": "display_data"
    },
    {
     "data": {
      "text/plain": [
       "'Name: 2c/, Last Modified: 2025-02-23 22:53, Size: -'"
      ]
     },
     "metadata": {},
     "output_type": "display_data"
    },
    {
     "data": {
      "text/plain": [
       "'Name: 2d/, Last Modified: 2025-02-25 08:52, Size: -'"
      ]
     },
     "metadata": {},
     "output_type": "display_data"
    },
    {
     "data": {
      "text/plain": [
       "'Name: 2e/, Last Modified: 2025-02-22 15:53, Size: -'"
      ]
     },
     "metadata": {},
     "output_type": "display_data"
    },
    {
     "data": {
      "text/plain": [
       "'Name: 2f/, Last Modified: 2025-02-22 22:55, Size: -'"
      ]
     },
     "metadata": {},
     "output_type": "display_data"
    },
    {
     "data": {
      "text/plain": [
       "'Name: 3a/, Last Modified: 2025-02-22 22:59, Size: -'"
      ]
     },
     "metadata": {},
     "output_type": "display_data"
    },
    {
     "data": {
      "text/plain": [
       "'Name: 3b/, Last Modified: 2025-02-22 23:52, Size: -'"
      ]
     },
     "metadata": {},
     "output_type": "display_data"
    },
    {
     "data": {
      "text/plain": [
       "'Name: 3c/, Last Modified: 2025-02-24 16:54, Size: -'"
      ]
     },
     "metadata": {},
     "output_type": "display_data"
    },
    {
     "data": {
      "text/plain": [
       "'Name: 3d/, Last Modified: 2025-02-22 23:52, Size: -'"
      ]
     },
     "metadata": {},
     "output_type": "display_data"
    },
    {
     "data": {
      "text/plain": [
       "'Name: 3e/, Last Modified: 2025-02-23 09:54, Size: -'"
      ]
     },
     "metadata": {},
     "output_type": "display_data"
    },
    {
     "data": {
      "text/plain": [
       "'Name: 3f/, Last Modified: 2025-02-24 05:53, Size: -'"
      ]
     },
     "metadata": {},
     "output_type": "display_data"
    },
    {
     "data": {
      "text/plain": [
       "'Name: 4a/, Last Modified: 2025-02-24 00:53, Size: -'"
      ]
     },
     "metadata": {},
     "output_type": "display_data"
    },
    {
     "data": {
      "text/plain": [
       "'Name: 4b/, Last Modified: 2025-02-22 10:54, Size: -'"
      ]
     },
     "metadata": {},
     "output_type": "display_data"
    },
    {
     "data": {
      "text/plain": [
       "'Name: 4c/, Last Modified: 2025-02-22 23:52, Size: -'"
      ]
     },
     "metadata": {},
     "output_type": "display_data"
    },
    {
     "data": {
      "text/plain": [
       "'Name: 4d/, Last Modified: 2025-02-25 08:52, Size: -'"
      ]
     },
     "metadata": {},
     "output_type": "display_data"
    },
    {
     "data": {
      "text/plain": [
       "'Name: 4e/, Last Modified: 2025-02-24 04:52, Size: -'"
      ]
     },
     "metadata": {},
     "output_type": "display_data"
    },
    {
     "data": {
      "text/plain": [
       "'Name: 4f/, Last Modified: 2025-02-24 14:53, Size: -'"
      ]
     },
     "metadata": {},
     "output_type": "display_data"
    },
    {
     "data": {
      "text/plain": [
       "'Name: 5a/, Last Modified: 2025-02-23 09:53, Size: -'"
      ]
     },
     "metadata": {},
     "output_type": "display_data"
    },
    {
     "data": {
      "text/plain": [
       "'Name: 5b/, Last Modified: 2025-02-24 14:53, Size: -'"
      ]
     },
     "metadata": {},
     "output_type": "display_data"
    },
    {
     "data": {
      "text/plain": [
       "'Name: 5c/, Last Modified: 2025-02-23 01:54, Size: -'"
      ]
     },
     "metadata": {},
     "output_type": "display_data"
    },
    {
     "data": {
      "text/plain": [
       "'Name: 5d/, Last Modified: 2025-02-23 14:53, Size: -'"
      ]
     },
     "metadata": {},
     "output_type": "display_data"
    },
    {
     "data": {
      "text/plain": [
       "'Name: 5e/, Last Modified: 2025-02-22 22:58, Size: -'"
      ]
     },
     "metadata": {},
     "output_type": "display_data"
    },
    {
     "data": {
      "text/plain": [
       "'Name: 5f/, Last Modified: 2025-02-23 21:54, Size: -'"
      ]
     },
     "metadata": {},
     "output_type": "display_data"
    },
    {
     "data": {
      "text/plain": [
       "'Name: 6a/, Last Modified: 2025-02-23 22:52, Size: -'"
      ]
     },
     "metadata": {},
     "output_type": "display_data"
    },
    {
     "data": {
      "text/plain": [
       "'Name: 6b/, Last Modified: 2025-02-24 22:54, Size: -'"
      ]
     },
     "metadata": {},
     "output_type": "display_data"
    },
    {
     "data": {
      "text/plain": [
       "'Name: 6c/, Last Modified: 2025-02-23 15:53, Size: -'"
      ]
     },
     "metadata": {},
     "output_type": "display_data"
    },
    {
     "data": {
      "text/plain": [
       "'Name: 6d/, Last Modified: 2025-02-22 08:52, Size: -'"
      ]
     },
     "metadata": {},
     "output_type": "display_data"
    },
    {
     "data": {
      "text/plain": [
       "'Name: 6e/, Last Modified: 2025-02-25 08:52, Size: -'"
      ]
     },
     "metadata": {},
     "output_type": "display_data"
    },
    {
     "data": {
      "text/plain": [
       "'Name: 6f/, Last Modified: 2025-02-23 21:54, Size: -'"
      ]
     },
     "metadata": {},
     "output_type": "display_data"
    },
    {
     "data": {
      "text/plain": [
       "'Name: 7a/, Last Modified: 2025-02-22 22:56, Size: -'"
      ]
     },
     "metadata": {},
     "output_type": "display_data"
    },
    {
     "data": {
      "text/plain": [
       "'Name: 7b/, Last Modified: 2025-02-21 19:54, Size: -'"
      ]
     },
     "metadata": {},
     "output_type": "display_data"
    },
    {
     "data": {
      "text/plain": [
       "'Name: 7c/, Last Modified: 2025-02-22 16:54, Size: -'"
      ]
     },
     "metadata": {},
     "output_type": "display_data"
    },
    {
     "data": {
      "text/plain": [
       "'Name: 7d/, Last Modified: 2025-02-22 22:58, Size: -'"
      ]
     },
     "metadata": {},
     "output_type": "display_data"
    },
    {
     "data": {
      "text/plain": [
       "'Name: 7e/, Last Modified: 2025-02-23 22:53, Size: -'"
      ]
     },
     "metadata": {},
     "output_type": "display_data"
    },
    {
     "data": {
      "text/plain": [
       "'Name: 7f/, Last Modified: 2025-02-22 22:56, Size: -'"
      ]
     },
     "metadata": {},
     "output_type": "display_data"
    },
    {
     "data": {
      "text/plain": [
       "'Name: 8a/, Last Modified: 2025-02-24 12:53, Size: -'"
      ]
     },
     "metadata": {},
     "output_type": "display_data"
    },
    {
     "data": {
      "text/plain": [
       "'Name: 8b/, Last Modified: 2025-02-24 08:54, Size: -'"
      ]
     },
     "metadata": {},
     "output_type": "display_data"
    },
    {
     "data": {
      "text/plain": [
       "'Name: 8c/, Last Modified: 2025-02-22 22:59, Size: -'"
      ]
     },
     "metadata": {},
     "output_type": "display_data"
    },
    {
     "data": {
      "text/plain": [
       "'Name: 8d/, Last Modified: 2025-02-22 22:57, Size: -'"
      ]
     },
     "metadata": {},
     "output_type": "display_data"
    },
    {
     "data": {
      "text/plain": [
       "'Name: 8e/, Last Modified: 2025-02-24 14:53, Size: -'"
      ]
     },
     "metadata": {},
     "output_type": "display_data"
    },
    {
     "data": {
      "text/plain": [
       "'Name: 8f/, Last Modified: 2025-02-24 13:52, Size: -'"
      ]
     },
     "metadata": {},
     "output_type": "display_data"
    },
    {
     "data": {
      "text/plain": [
       "'Name: 9a/, Last Modified: 2025-02-22 23:31, Size: -'"
      ]
     },
     "metadata": {},
     "output_type": "display_data"
    },
    {
     "data": {
      "text/plain": [
       "'Name: 9b/, Last Modified: 2025-02-24 16:54, Size: -'"
      ]
     },
     "metadata": {},
     "output_type": "display_data"
    },
    {
     "data": {
      "text/plain": [
       "'Name: 9c/, Last Modified: 2025-02-22 23:00, Size: -'"
      ]
     },
     "metadata": {},
     "output_type": "display_data"
    },
    {
     "data": {
      "text/plain": [
       "'Name: 9d/, Last Modified: 2025-02-22 23:00, Size: -'"
      ]
     },
     "metadata": {},
     "output_type": "display_data"
    },
    {
     "data": {
      "text/plain": [
       "'Name: 9e/, Last Modified: 2025-02-25 08:52, Size: -'"
      ]
     },
     "metadata": {},
     "output_type": "display_data"
    },
    {
     "data": {
      "text/plain": [
       "'Name: 9f/, Last Modified: 2025-02-22 22:58, Size: -'"
      ]
     },
     "metadata": {},
     "output_type": "display_data"
    },
    {
     "data": {
      "text/plain": [
       "'Name: 10/, Last Modified: 2025-02-22 16:54, Size: -'"
      ]
     },
     "metadata": {},
     "output_type": "display_data"
    },
    {
     "data": {
      "text/plain": [
       "'Name: 11/, Last Modified: 2025-02-24 10:53, Size: -'"
      ]
     },
     "metadata": {},
     "output_type": "display_data"
    },
    {
     "data": {
      "text/plain": [
       "'Name: 12/, Last Modified: 2025-02-22 22:58, Size: -'"
      ]
     },
     "metadata": {},
     "output_type": "display_data"
    },
    {
     "data": {
      "text/plain": [
       "'Name: 13/, Last Modified: 2025-02-22 23:52, Size: -'"
      ]
     },
     "metadata": {},
     "output_type": "display_data"
    },
    {
     "data": {
      "text/plain": [
       "'Name: 14/, Last Modified: 2025-02-24 16:54, Size: -'"
      ]
     },
     "metadata": {},
     "output_type": "display_data"
    },
    {
     "data": {
      "text/plain": [
       "'Name: 15/, Last Modified: 2025-02-23 22:52, Size: -'"
      ]
     },
     "metadata": {},
     "output_type": "display_data"
    },
    {
     "data": {
      "text/plain": [
       "'Name: 16/, Last Modified: 2025-02-25 08:52, Size: -'"
      ]
     },
     "metadata": {},
     "output_type": "display_data"
    },
    {
     "data": {
      "text/plain": [
       "'Name: 17/, Last Modified: 2025-02-22 23:00, Size: -'"
      ]
     },
     "metadata": {},
     "output_type": "display_data"
    },
    {
     "data": {
      "text/plain": [
       "'Name: 18/, Last Modified: 2025-02-24 13:52, Size: -'"
      ]
     },
     "metadata": {},
     "output_type": "display_data"
    },
    {
     "data": {
      "text/plain": [
       "'Name: 19/, Last Modified: 2025-02-23 05:52, Size: -'"
      ]
     },
     "metadata": {},
     "output_type": "display_data"
    },
    {
     "data": {
      "text/plain": [
       "'Name: 20/, Last Modified: 2025-02-24 14:53, Size: -'"
      ]
     },
     "metadata": {},
     "output_type": "display_data"
    },
    {
     "data": {
      "text/plain": [
       "'Name: 21/, Last Modified: 2025-02-24 14:53, Size: -'"
      ]
     },
     "metadata": {},
     "output_type": "display_data"
    },
    {
     "data": {
      "text/plain": [
       "'Name: 22/, Last Modified: 2025-02-22 16:54, Size: -'"
      ]
     },
     "metadata": {},
     "output_type": "display_data"
    },
    {
     "data": {
      "text/plain": [
       "'Name: 23/, Last Modified: 2025-02-24 12:53, Size: -'"
      ]
     },
     "metadata": {},
     "output_type": "display_data"
    },
    {
     "data": {
      "text/plain": [
       "'Name: 24/, Last Modified: 2025-02-23 22:53, Size: -'"
      ]
     },
     "metadata": {},
     "output_type": "display_data"
    },
    {
     "data": {
      "text/plain": [
       "'Name: 25/, Last Modified: 2025-02-21 12:03, Size: -'"
      ]
     },
     "metadata": {},
     "output_type": "display_data"
    },
    {
     "data": {
      "text/plain": [
       "'Name: 26/, Last Modified: 2025-02-23 15:53, Size: -'"
      ]
     },
     "metadata": {},
     "output_type": "display_data"
    },
    {
     "data": {
      "text/plain": [
       "'Name: 27/, Last Modified: 2025-02-25 08:52, Size: -'"
      ]
     },
     "metadata": {},
     "output_type": "display_data"
    },
    {
     "data": {
      "text/plain": [
       "'Name: 28/, Last Modified: 2025-02-24 08:53, Size: -'"
      ]
     },
     "metadata": {},
     "output_type": "display_data"
    },
    {
     "data": {
      "text/plain": [
       "'Name: 29/, Last Modified: 2025-02-22 07:52, Size: -'"
      ]
     },
     "metadata": {},
     "output_type": "display_data"
    },
    {
     "data": {
      "text/plain": [
       "'Name: 30/, Last Modified: 2025-02-23 09:53, Size: -'"
      ]
     },
     "metadata": {},
     "output_type": "display_data"
    },
    {
     "data": {
      "text/plain": [
       "'Name: 31/, Last Modified: 2025-02-24 16:54, Size: -'"
      ]
     },
     "metadata": {},
     "output_type": "display_data"
    },
    {
     "data": {
      "text/plain": [
       "'Name: 32/, Last Modified: 2025-02-22 03:52, Size: -'"
      ]
     },
     "metadata": {},
     "output_type": "display_data"
    },
    {
     "data": {
      "text/plain": [
       "'Name: 33/, Last Modified: 2025-02-22 15:53, Size: -'"
      ]
     },
     "metadata": {},
     "output_type": "display_data"
    },
    {
     "data": {
      "text/plain": [
       "'Name: 34/, Last Modified: 2025-02-22 23:00, Size: -'"
      ]
     },
     "metadata": {},
     "output_type": "display_data"
    },
    {
     "data": {
      "text/plain": [
       "'Name: 35/, Last Modified: 2025-02-22 22:57, Size: -'"
      ]
     },
     "metadata": {},
     "output_type": "display_data"
    },
    {
     "data": {
      "text/plain": [
       "'Name: 36/, Last Modified: 2025-02-22 22:58, Size: -'"
      ]
     },
     "metadata": {},
     "output_type": "display_data"
    },
    {
     "data": {
      "text/plain": [
       "'Name: 37/, Last Modified: 2025-02-22 07:52, Size: -'"
      ]
     },
     "metadata": {},
     "output_type": "display_data"
    },
    {
     "data": {
      "text/plain": [
       "'Name: 38/, Last Modified: 2025-02-24 08:52, Size: -'"
      ]
     },
     "metadata": {},
     "output_type": "display_data"
    },
    {
     "data": {
      "text/plain": [
       "'Name: 39/, Last Modified: 2025-02-24 08:54, Size: -'"
      ]
     },
     "metadata": {},
     "output_type": "display_data"
    },
    {
     "data": {
      "text/plain": [
       "'Name: 40/, Last Modified: 2025-02-23 22:52, Size: -'"
      ]
     },
     "metadata": {},
     "output_type": "display_data"
    },
    {
     "data": {
      "text/plain": [
       "'Name: 41/, Last Modified: 2025-02-22 23:00, Size: -'"
      ]
     },
     "metadata": {},
     "output_type": "display_data"
    },
    {
     "data": {
      "text/plain": [
       "'Name: 42/, Last Modified: 2025-02-24 09:31, Size: -'"
      ]
     },
     "metadata": {},
     "output_type": "display_data"
    },
    {
     "data": {
      "text/plain": [
       "'Name: 43/, Last Modified: 2025-02-25 07:52, Size: -'"
      ]
     },
     "metadata": {},
     "output_type": "display_data"
    },
    {
     "data": {
      "text/plain": [
       "'Name: 44/, Last Modified: 2025-02-24 14:53, Size: -'"
      ]
     },
     "metadata": {},
     "output_type": "display_data"
    },
    {
     "data": {
      "text/plain": [
       "'Name: 45/, Last Modified: 2025-02-22 23:00, Size: -'"
      ]
     },
     "metadata": {},
     "output_type": "display_data"
    },
    {
     "data": {
      "text/plain": [
       "'Name: 46/, Last Modified: 2025-02-23 21:54, Size: -'"
      ]
     },
     "metadata": {},
     "output_type": "display_data"
    },
    {
     "data": {
      "text/plain": [
       "'Name: 47/, Last Modified: 2025-02-22 23:00, Size: -'"
      ]
     },
     "metadata": {},
     "output_type": "display_data"
    },
    {
     "data": {
      "text/plain": [
       "'Name: 48/, Last Modified: 2025-02-22 23:00, Size: -'"
      ]
     },
     "metadata": {},
     "output_type": "display_data"
    },
    {
     "data": {
      "text/plain": [
       "'Name: 49/, Last Modified: 2025-02-23 22:52, Size: -'"
      ]
     },
     "metadata": {},
     "output_type": "display_data"
    },
    {
     "data": {
      "text/plain": [
       "'Name: 50/, Last Modified: 2025-02-21 18:53, Size: -'"
      ]
     },
     "metadata": {},
     "output_type": "display_data"
    },
    {
     "data": {
      "text/plain": [
       "'Name: 51/, Last Modified: 2025-02-22 23:00, Size: -'"
      ]
     },
     "metadata": {},
     "output_type": "display_data"
    },
    {
     "data": {
      "text/plain": [
       "'Name: 52/, Last Modified: 2025-02-25 01:52, Size: -'"
      ]
     },
     "metadata": {},
     "output_type": "display_data"
    },
    {
     "data": {
      "text/plain": [
       "'Name: 53/, Last Modified: 2025-02-22 23:52, Size: -'"
      ]
     },
     "metadata": {},
     "output_type": "display_data"
    },
    {
     "data": {
      "text/plain": [
       "'Name: 54/, Last Modified: 2025-02-22 22:58, Size: -'"
      ]
     },
     "metadata": {},
     "output_type": "display_data"
    },
    {
     "data": {
      "text/plain": [
       "'Name: 55/, Last Modified: 2025-02-23 20:52, Size: -'"
      ]
     },
     "metadata": {},
     "output_type": "display_data"
    },
    {
     "data": {
      "text/plain": [
       "'Name: 56/, Last Modified: 2025-02-25 01:52, Size: -'"
      ]
     },
     "metadata": {},
     "output_type": "display_data"
    },
    {
     "data": {
      "text/plain": [
       "'Name: 57/, Last Modified: 2025-02-22 16:54, Size: -'"
      ]
     },
     "metadata": {},
     "output_type": "display_data"
    },
    {
     "data": {
      "text/plain": [
       "'Name: 58/, Last Modified: 2025-02-23 22:52, Size: -'"
      ]
     },
     "metadata": {},
     "output_type": "display_data"
    },
    {
     "data": {
      "text/plain": [
       "'Name: 59/, Last Modified: 2025-02-24 14:53, Size: -'"
      ]
     },
     "metadata": {},
     "output_type": "display_data"
    },
    {
     "data": {
      "text/plain": [
       "'Name: 60/, Last Modified: 2025-02-25 07:53, Size: -'"
      ]
     },
     "metadata": {},
     "output_type": "display_data"
    },
    {
     "data": {
      "text/plain": [
       "'Name: 61/, Last Modified: 2025-02-23 22:52, Size: -'"
      ]
     },
     "metadata": {},
     "output_type": "display_data"
    },
    {
     "data": {
      "text/plain": [
       "'Name: 62/, Last Modified: 2025-02-23 22:53, Size: -'"
      ]
     },
     "metadata": {},
     "output_type": "display_data"
    },
    {
     "data": {
      "text/plain": [
       "'Name: 63/, Last Modified: 2025-02-24 14:53, Size: -'"
      ]
     },
     "metadata": {},
     "output_type": "display_data"
    },
    {
     "data": {
      "text/plain": [
       "'Name: 64/, Last Modified: 2025-02-23 01:54, Size: -'"
      ]
     },
     "metadata": {},
     "output_type": "display_data"
    },
    {
     "data": {
      "text/plain": [
       "'Name: 65/, Last Modified: 2025-02-23 17:53, Size: -'"
      ]
     },
     "metadata": {},
     "output_type": "display_data"
    },
    {
     "data": {
      "text/plain": [
       "'Name: 66/, Last Modified: 2025-02-22 10:54, Size: -'"
      ]
     },
     "metadata": {},
     "output_type": "display_data"
    },
    {
     "data": {
      "text/plain": [
       "'Name: 67/, Last Modified: 2025-02-23 21:54, Size: -'"
      ]
     },
     "metadata": {},
     "output_type": "display_data"
    },
    {
     "data": {
      "text/plain": [
       "'Name: 68/, Last Modified: 2025-02-22 22:59, Size: -'"
      ]
     },
     "metadata": {},
     "output_type": "display_data"
    },
    {
     "data": {
      "text/plain": [
       "'Name: 69/, Last Modified: 2025-02-23 03:52, Size: -'"
      ]
     },
     "metadata": {},
     "output_type": "display_data"
    },
    {
     "data": {
      "text/plain": [
       "'Name: 70/, Last Modified: 2025-02-23 09:53, Size: -'"
      ]
     },
     "metadata": {},
     "output_type": "display_data"
    },
    {
     "data": {
      "text/plain": [
       "'Name: 71/, Last Modified: 2025-02-24 10:53, Size: -'"
      ]
     },
     "metadata": {},
     "output_type": "display_data"
    },
    {
     "data": {
      "text/plain": [
       "'Name: 72/, Last Modified: 2025-02-17 21:54, Size: -'"
      ]
     },
     "metadata": {},
     "output_type": "display_data"
    },
    {
     "data": {
      "text/plain": [
       "'Name: 73/, Last Modified: 2025-02-25 08:52, Size: -'"
      ]
     },
     "metadata": {},
     "output_type": "display_data"
    },
    {
     "data": {
      "text/plain": [
       "'Name: 74/, Last Modified: 2025-02-23 21:54, Size: -'"
      ]
     },
     "metadata": {},
     "output_type": "display_data"
    },
    {
     "data": {
      "text/plain": [
       "'Name: 75/, Last Modified: 2025-02-23 01:54, Size: -'"
      ]
     },
     "metadata": {},
     "output_type": "display_data"
    },
    {
     "data": {
      "text/plain": [
       "'Name: 76/, Last Modified: 2025-02-21 19:54, Size: -'"
      ]
     },
     "metadata": {},
     "output_type": "display_data"
    },
    {
     "data": {
      "text/plain": [
       "'Name: 77/, Last Modified: 2025-02-25 08:52, Size: -'"
      ]
     },
     "metadata": {},
     "output_type": "display_data"
    },
    {
     "data": {
      "text/plain": [
       "'Name: 78/, Last Modified: 2025-02-25 08:52, Size: -'"
      ]
     },
     "metadata": {},
     "output_type": "display_data"
    },
    {
     "data": {
      "text/plain": [
       "'Name: 79/, Last Modified: 2025-02-21 13:55, Size: -'"
      ]
     },
     "metadata": {},
     "output_type": "display_data"
    },
    {
     "data": {
      "text/plain": [
       "'Name: 80/, Last Modified: 2025-02-25 08:52, Size: -'"
      ]
     },
     "metadata": {},
     "output_type": "display_data"
    },
    {
     "data": {
      "text/plain": [
       "'Name: 81/, Last Modified: 2025-02-25 00:54, Size: -'"
      ]
     },
     "metadata": {},
     "output_type": "display_data"
    },
    {
     "data": {
      "text/plain": [
       "'Name: 82/, Last Modified: 2025-02-22 23:01, Size: -'"
      ]
     },
     "metadata": {},
     "output_type": "display_data"
    },
    {
     "data": {
      "text/plain": [
       "'Name: 83/, Last Modified: 2025-02-25 08:52, Size: -'"
      ]
     },
     "metadata": {},
     "output_type": "display_data"
    },
    {
     "data": {
      "text/plain": [
       "'Name: 84/, Last Modified: 2025-02-24 14:53, Size: -'"
      ]
     },
     "metadata": {},
     "output_type": "display_data"
    },
    {
     "data": {
      "text/plain": [
       "'Name: 85/, Last Modified: 2025-02-25 01:52, Size: -'"
      ]
     },
     "metadata": {},
     "output_type": "display_data"
    },
    {
     "data": {
      "text/plain": [
       "'Name: 86/, Last Modified: 2025-02-22 23:52, Size: -'"
      ]
     },
     "metadata": {},
     "output_type": "display_data"
    },
    {
     "data": {
      "text/plain": [
       "'Name: 87/, Last Modified: 2025-02-22 07:52, Size: -'"
      ]
     },
     "metadata": {},
     "output_type": "display_data"
    },
    {
     "data": {
      "text/plain": [
       "'Name: 88/, Last Modified: 2025-02-23 14:53, Size: -'"
      ]
     },
     "metadata": {},
     "output_type": "display_data"
    },
    {
     "data": {
      "text/plain": [
       "'Name: 89/, Last Modified: 2025-02-25 07:53, Size: -'"
      ]
     },
     "metadata": {},
     "output_type": "display_data"
    },
    {
     "data": {
      "text/plain": [
       "'Name: 90/, Last Modified: 2025-02-25 04:53, Size: -'"
      ]
     },
     "metadata": {},
     "output_type": "display_data"
    },
    {
     "data": {
      "text/plain": [
       "'Name: 91/, Last Modified: 2025-02-21 23:52, Size: -'"
      ]
     },
     "metadata": {},
     "output_type": "display_data"
    },
    {
     "data": {
      "text/plain": [
       "'Name: 92/, Last Modified: 2025-02-22 16:54, Size: -'"
      ]
     },
     "metadata": {},
     "output_type": "display_data"
    },
    {
     "data": {
      "text/plain": [
       "'Name: 93/, Last Modified: 2025-02-23 22:53, Size: -'"
      ]
     },
     "metadata": {},
     "output_type": "display_data"
    },
    {
     "data": {
      "text/plain": [
       "'Name: 94/, Last Modified: 2025-02-24 14:53, Size: -'"
      ]
     },
     "metadata": {},
     "output_type": "display_data"
    },
    {
     "data": {
      "text/plain": [
       "'Name: 95/, Last Modified: 2025-02-24 16:54, Size: -'"
      ]
     },
     "metadata": {},
     "output_type": "display_data"
    },
    {
     "data": {
      "text/plain": [
       "'Name: 96/, Last Modified: 2025-02-22 16:54, Size: -'"
      ]
     },
     "metadata": {},
     "output_type": "display_data"
    },
    {
     "data": {
      "text/plain": [
       "'Name: 97/, Last Modified: 2025-02-23 21:54, Size: -'"
      ]
     },
     "metadata": {},
     "output_type": "display_data"
    },
    {
     "data": {
      "text/plain": [
       "'Name: 98/, Last Modified: 2025-02-24 14:53, Size: -'"
      ]
     },
     "metadata": {},
     "output_type": "display_data"
    },
    {
     "data": {
      "text/plain": [
       "'Name: 99/, Last Modified: 2025-02-22 13:52, Size: -'"
      ]
     },
     "metadata": {},
     "output_type": "display_data"
    },
    {
     "data": {
      "text/plain": [
       "'Name: README, Last Modified: 2023-09-14 04:14, Size: 96'"
      ]
     },
     "metadata": {},
     "output_type": "display_data"
    },
    {
     "data": {
      "text/plain": [
       "'Name: a0/, Last Modified: 2025-02-24 04:54, Size: -'"
      ]
     },
     "metadata": {},
     "output_type": "display_data"
    },
    {
     "data": {
      "text/plain": [
       "'Name: a1/, Last Modified: 2025-02-22 22:52, Size: -'"
      ]
     },
     "metadata": {},
     "output_type": "display_data"
    },
    {
     "data": {
      "text/plain": [
       "'Name: a2/, Last Modified: 2025-02-22 16:54, Size: -'"
      ]
     },
     "metadata": {},
     "output_type": "display_data"
    },
    {
     "data": {
      "text/plain": [
       "'Name: a3/, Last Modified: 2025-02-22 23:52, Size: -'"
      ]
     },
     "metadata": {},
     "output_type": "display_data"
    },
    {
     "data": {
      "text/plain": [
       "'Name: a4/, Last Modified: 2025-02-22 16:54, Size: -'"
      ]
     },
     "metadata": {},
     "output_type": "display_data"
    },
    {
     "data": {
      "text/plain": [
       "'Name: a5/, Last Modified: 2025-02-22 22:55, Size: -'"
      ]
     },
     "metadata": {},
     "output_type": "display_data"
    },
    {
     "data": {
      "text/plain": [
       "'Name: a6/, Last Modified: 2025-02-25 07:53, Size: -'"
      ]
     },
     "metadata": {},
     "output_type": "display_data"
    },
    {
     "data": {
      "text/plain": [
       "'Name: a7/, Last Modified: 2025-02-24 22:54, Size: -'"
      ]
     },
     "metadata": {},
     "output_type": "display_data"
    },
    {
     "data": {
      "text/plain": [
       "'Name: a8/, Last Modified: 2025-02-24 16:54, Size: -'"
      ]
     },
     "metadata": {},
     "output_type": "display_data"
    },
    {
     "data": {
      "text/plain": [
       "'Name: a9/, Last Modified: 2025-02-24 14:53, Size: -'"
      ]
     },
     "metadata": {},
     "output_type": "display_data"
    },
    {
     "data": {
      "text/plain": [
       "'Name: aa/, Last Modified: 2025-02-23 15:53, Size: -'"
      ]
     },
     "metadata": {},
     "output_type": "display_data"
    },
    {
     "data": {
      "text/plain": [
       "'Name: ab/, Last Modified: 2025-02-22 16:54, Size: -'"
      ]
     },
     "metadata": {},
     "output_type": "display_data"
    },
    {
     "data": {
      "text/plain": [
       "'Name: ac/, Last Modified: 2025-02-22 23:53, Size: -'"
      ]
     },
     "metadata": {},
     "output_type": "display_data"
    },
    {
     "data": {
      "text/plain": [
       "'Name: ad/, Last Modified: 2025-02-21 17:53, Size: -'"
      ]
     },
     "metadata": {},
     "output_type": "display_data"
    },
    {
     "data": {
      "text/plain": [
       "'Name: ae/, Last Modified: 2025-02-22 22:59, Size: -'"
      ]
     },
     "metadata": {},
     "output_type": "display_data"
    },
    {
     "data": {
      "text/plain": [
       "'Name: af/, Last Modified: 2025-02-24 14:53, Size: -'"
      ]
     },
     "metadata": {},
     "output_type": "display_data"
    },
    {
     "data": {
      "text/plain": [
       "'Name: b0/, Last Modified: 2025-02-22 07:52, Size: -'"
      ]
     },
     "metadata": {},
     "output_type": "display_data"
    },
    {
     "data": {
      "text/plain": [
       "'Name: b1/, Last Modified: 2025-02-22 22:59, Size: -'"
      ]
     },
     "metadata": {},
     "output_type": "display_data"
    },
    {
     "data": {
      "text/plain": [
       "'Name: b2/, Last Modified: 2025-02-24 04:52, Size: -'"
      ]
     },
     "metadata": {},
     "output_type": "display_data"
    },
    {
     "data": {
      "text/plain": [
       "'Name: b3/, Last Modified: 2025-02-24 19:54, Size: -'"
      ]
     },
     "metadata": {},
     "output_type": "display_data"
    },
    {
     "data": {
      "text/plain": [
       "'Name: b4/, Last Modified: 2025-02-23 22:52, Size: -'"
      ]
     },
     "metadata": {},
     "output_type": "display_data"
    },
    {
     "data": {
      "text/plain": [
       "'Name: b5/, Last Modified: 2025-02-23 23:53, Size: -'"
      ]
     },
     "metadata": {},
     "output_type": "display_data"
    },
    {
     "data": {
      "text/plain": [
       "'Name: b6/, Last Modified: 2025-02-23 21:54, Size: -'"
      ]
     },
     "metadata": {},
     "output_type": "display_data"
    },
    {
     "data": {
      "text/plain": [
       "'Name: b7/, Last Modified: 2025-02-22 07:52, Size: -'"
      ]
     },
     "metadata": {},
     "output_type": "display_data"
    },
    {
     "data": {
      "text/plain": [
       "'Name: b8/, Last Modified: 2025-02-22 23:00, Size: -'"
      ]
     },
     "metadata": {},
     "output_type": "display_data"
    },
    {
     "data": {
      "text/plain": [
       "'Name: b9/, Last Modified: 2025-02-22 23:52, Size: -'"
      ]
     },
     "metadata": {},
     "output_type": "display_data"
    },
    {
     "data": {
      "text/plain": [
       "'Name: ba/, Last Modified: 2025-02-24 22:54, Size: -'"
      ]
     },
     "metadata": {},
     "output_type": "display_data"
    },
    {
     "data": {
      "text/plain": [
       "'Name: bb/, Last Modified: 2025-02-23 21:54, Size: -'"
      ]
     },
     "metadata": {},
     "output_type": "display_data"
    },
    {
     "data": {
      "text/plain": [
       "'Name: bc/, Last Modified: 2025-02-22 07:52, Size: -'"
      ]
     },
     "metadata": {},
     "output_type": "display_data"
    },
    {
     "data": {
      "text/plain": [
       "'Name: bd/, Last Modified: 2025-02-23 15:53, Size: -'"
      ]
     },
     "metadata": {},
     "output_type": "display_data"
    },
    {
     "data": {
      "text/plain": [
       "'Name: be/, Last Modified: 2025-02-25 07:53, Size: -'"
      ]
     },
     "metadata": {},
     "output_type": "display_data"
    },
    {
     "data": {
      "text/plain": [
       "'Name: bf/, Last Modified: 2025-02-23 05:52, Size: -'"
      ]
     },
     "metadata": {},
     "output_type": "display_data"
    },
    {
     "data": {
      "text/plain": [
       "'Name: c0/, Last Modified: 2025-02-22 23:00, Size: -'"
      ]
     },
     "metadata": {},
     "output_type": "display_data"
    },
    {
     "data": {
      "text/plain": [
       "'Name: c1/, Last Modified: 2025-02-25 08:52, Size: -'"
      ]
     },
     "metadata": {},
     "output_type": "display_data"
    },
    {
     "data": {
      "text/plain": [
       "'Name: c2/, Last Modified: 2025-02-24 04:52, Size: -'"
      ]
     },
     "metadata": {},
     "output_type": "display_data"
    },
    {
     "data": {
      "text/plain": [
       "'Name: c3/, Last Modified: 2025-02-22 22:57, Size: -'"
      ]
     },
     "metadata": {},
     "output_type": "display_data"
    },
    {
     "data": {
      "text/plain": [
       "'Name: c4/, Last Modified: 2025-02-23 23:53, Size: -'"
      ]
     },
     "metadata": {},
     "output_type": "display_data"
    },
    {
     "data": {
      "text/plain": [
       "'Name: c5/, Last Modified: 2025-02-23 03:52, Size: -'"
      ]
     },
     "metadata": {},
     "output_type": "display_data"
    },
    {
     "data": {
      "text/plain": [
       "'Name: c6/, Last Modified: 2025-02-25 08:52, Size: -'"
      ]
     },
     "metadata": {},
     "output_type": "display_data"
    },
    {
     "data": {
      "text/plain": [
       "'Name: c7/, Last Modified: 2025-02-24 09:53, Size: -'"
      ]
     },
     "metadata": {},
     "output_type": "display_data"
    },
    {
     "data": {
      "text/plain": [
       "'Name: c8/, Last Modified: 2025-02-23 21:54, Size: -'"
      ]
     },
     "metadata": {},
     "output_type": "display_data"
    },
    {
     "data": {
      "text/plain": [
       "'Name: c9/, Last Modified: 2025-02-22 22:53, Size: -'"
      ]
     },
     "metadata": {},
     "output_type": "display_data"
    },
    {
     "data": {
      "text/plain": [
       "'Name: ca/, Last Modified: 2025-02-24 12:53, Size: -'"
      ]
     },
     "metadata": {},
     "output_type": "display_data"
    },
    {
     "data": {
      "text/plain": [
       "'Name: cb/, Last Modified: 2025-02-24 16:54, Size: -'"
      ]
     },
     "metadata": {},
     "output_type": "display_data"
    },
    {
     "data": {
      "text/plain": [
       "'Name: cc/, Last Modified: 2025-02-24 14:53, Size: -'"
      ]
     },
     "metadata": {},
     "output_type": "display_data"
    },
    {
     "data": {
      "text/plain": [
       "'Name: cd/, Last Modified: 2025-02-22 23:52, Size: -'"
      ]
     },
     "metadata": {},
     "output_type": "display_data"
    },
    {
     "data": {
      "text/plain": [
       "'Name: ce/, Last Modified: 2025-02-23 03:52, Size: -'"
      ]
     },
     "metadata": {},
     "output_type": "display_data"
    },
    {
     "data": {
      "text/plain": [
       "'Name: cf/, Last Modified: 2025-02-24 10:53, Size: -'"
      ]
     },
     "metadata": {},
     "output_type": "display_data"
    },
    {
     "data": {
      "text/plain": [
       "'Name: d0/, Last Modified: 2025-02-22 23:52, Size: -'"
      ]
     },
     "metadata": {},
     "output_type": "display_data"
    },
    {
     "data": {
      "text/plain": [
       "'Name: d1/, Last Modified: 2025-02-23 22:53, Size: -'"
      ]
     },
     "metadata": {},
     "output_type": "display_data"
    },
    {
     "data": {
      "text/plain": [
       "'Name: d2/, Last Modified: 2025-02-24 05:55, Size: -'"
      ]
     },
     "metadata": {},
     "output_type": "display_data"
    },
    {
     "data": {
      "text/plain": [
       "'Name: d3/, Last Modified: 2025-02-22 23:31, Size: -'"
      ]
     },
     "metadata": {},
     "output_type": "display_data"
    },
    {
     "data": {
      "text/plain": [
       "'Name: d4/, Last Modified: 2025-02-22 23:00, Size: -'"
      ]
     },
     "metadata": {},
     "output_type": "display_data"
    },
    {
     "data": {
      "text/plain": [
       "'Name: d5/, Last Modified: 2025-02-25 04:52, Size: -'"
      ]
     },
     "metadata": {},
     "output_type": "display_data"
    },
    {
     "data": {
      "text/plain": [
       "'Name: d6/, Last Modified: 2025-02-24 19:52, Size: -'"
      ]
     },
     "metadata": {},
     "output_type": "display_data"
    },
    {
     "data": {
      "text/plain": [
       "'Name: d7/, Last Modified: 2025-02-24 16:54, Size: -'"
      ]
     },
     "metadata": {},
     "output_type": "display_data"
    },
    {
     "data": {
      "text/plain": [
       "'Name: d8/, Last Modified: 2025-02-23 08:57, Size: -'"
      ]
     },
     "metadata": {},
     "output_type": "display_data"
    },
    {
     "data": {
      "text/plain": [
       "'Name: d9/, Last Modified: 2025-02-22 23:31, Size: -'"
      ]
     },
     "metadata": {},
     "output_type": "display_data"
    },
    {
     "data": {
      "text/plain": [
       "'Name: da/, Last Modified: 2025-02-22 22:53, Size: -'"
      ]
     },
     "metadata": {},
     "output_type": "display_data"
    },
    {
     "data": {
      "text/plain": [
       "'Name: db/, Last Modified: 2025-02-22 20:53, Size: -'"
      ]
     },
     "metadata": {},
     "output_type": "display_data"
    },
    {
     "data": {
      "text/plain": [
       "'Name: dc/, Last Modified: 2025-02-22 18:52, Size: -'"
      ]
     },
     "metadata": {},
     "output_type": "display_data"
    },
    {
     "data": {
      "text/plain": [
       "'Name: dd/, Last Modified: 2025-02-24 12:53, Size: -'"
      ]
     },
     "metadata": {},
     "output_type": "display_data"
    },
    {
     "data": {
      "text/plain": [
       "'Name: de/, Last Modified: 2025-02-23 03:52, Size: -'"
      ]
     },
     "metadata": {},
     "output_type": "display_data"
    },
    {
     "data": {
      "text/plain": [
       "'Name: df/, Last Modified: 2025-02-24 08:52, Size: -'"
      ]
     },
     "metadata": {},
     "output_type": "display_data"
    },
    {
     "data": {
      "text/plain": [
       "'Name: e0/, Last Modified: 2025-02-22 23:52, Size: -'"
      ]
     },
     "metadata": {},
     "output_type": "display_data"
    },
    {
     "data": {
      "text/plain": [
       "'Name: e1/, Last Modified: 2025-02-21 17:52, Size: -'"
      ]
     },
     "metadata": {},
     "output_type": "display_data"
    },
    {
     "data": {
      "text/plain": [
       "'Name: e2/, Last Modified: 2025-02-25 07:53, Size: -'"
      ]
     },
     "metadata": {},
     "output_type": "display_data"
    },
    {
     "data": {
      "text/plain": [
       "'Name: e3/, Last Modified: 2025-02-25 04:53, Size: -'"
      ]
     },
     "metadata": {},
     "output_type": "display_data"
    },
    {
     "data": {
      "text/plain": [
       "'Name: e4/, Last Modified: 2025-02-24 04:52, Size: -'"
      ]
     },
     "metadata": {},
     "output_type": "display_data"
    },
    {
     "data": {
      "text/plain": [
       "'Name: e5/, Last Modified: 2025-02-24 16:54, Size: -'"
      ]
     },
     "metadata": {},
     "output_type": "display_data"
    },
    {
     "data": {
      "text/plain": [
       "'Name: e6/, Last Modified: 2025-02-22 23:01, Size: -'"
      ]
     },
     "metadata": {},
     "output_type": "display_data"
    },
    {
     "data": {
      "text/plain": [
       "'Name: e7/, Last Modified: 2025-02-24 04:52, Size: -'"
      ]
     },
     "metadata": {},
     "output_type": "display_data"
    },
    {
     "data": {
      "text/plain": [
       "'Name: e8/, Last Modified: 2025-02-22 22:59, Size: -'"
      ]
     },
     "metadata": {},
     "output_type": "display_data"
    },
    {
     "data": {
      "text/plain": [
       "'Name: e9/, Last Modified: 2025-02-24 05:53, Size: -'"
      ]
     },
     "metadata": {},
     "output_type": "display_data"
    },
    {
     "data": {
      "text/plain": [
       "'Name: ea/, Last Modified: 2025-02-25 08:52, Size: -'"
      ]
     },
     "metadata": {},
     "output_type": "display_data"
    },
    {
     "data": {
      "text/plain": [
       "'Name: eb/, Last Modified: 2025-02-22 02:52, Size: -'"
      ]
     },
     "metadata": {},
     "output_type": "display_data"
    },
    {
     "data": {
      "text/plain": [
       "'Name: ec/, Last Modified: 2025-02-22 16:54, Size: -'"
      ]
     },
     "metadata": {},
     "output_type": "display_data"
    },
    {
     "data": {
      "text/plain": [
       "'Name: ed/, Last Modified: 2025-02-23 19:52, Size: -'"
      ]
     },
     "metadata": {},
     "output_type": "display_data"
    },
    {
     "data": {
      "text/plain": [
       "'Name: ee/, Last Modified: 2025-02-24 16:54, Size: -'"
      ]
     },
     "metadata": {},
     "output_type": "display_data"
    },
    {
     "data": {
      "text/plain": [
       "'Name: ef/, Last Modified: 2025-02-25 04:52, Size: -'"
      ]
     },
     "metadata": {},
     "output_type": "display_data"
    },
    {
     "data": {
      "text/plain": [
       "'Name: f0/, Last Modified: 2025-02-24 16:54, Size: -'"
      ]
     },
     "metadata": {},
     "output_type": "display_data"
    },
    {
     "data": {
      "text/plain": [
       "'Name: f1/, Last Modified: 2025-02-23 21:54, Size: -'"
      ]
     },
     "metadata": {},
     "output_type": "display_data"
    },
    {
     "data": {
      "text/plain": [
       "'Name: f2/, Last Modified: 2025-02-24 14:53, Size: -'"
      ]
     },
     "metadata": {},
     "output_type": "display_data"
    },
    {
     "data": {
      "text/plain": [
       "'Name: f3/, Last Modified: 2025-02-23 22:52, Size: -'"
      ]
     },
     "metadata": {},
     "output_type": "display_data"
    },
    {
     "data": {
      "text/plain": [
       "'Name: f4/, Last Modified: 2025-02-25 08:52, Size: -'"
      ]
     },
     "metadata": {},
     "output_type": "display_data"
    },
    {
     "data": {
      "text/plain": [
       "'Name: f5/, Last Modified: 2025-02-25 08:52, Size: -'"
      ]
     },
     "metadata": {},
     "output_type": "display_data"
    },
    {
     "data": {
      "text/plain": [
       "'Name: f6/, Last Modified: 2025-02-22 23:53, Size: -'"
      ]
     },
     "metadata": {},
     "output_type": "display_data"
    },
    {
     "data": {
      "text/plain": [
       "'Name: f7/, Last Modified: 2025-02-24 08:52, Size: -'"
      ]
     },
     "metadata": {},
     "output_type": "display_data"
    },
    {
     "data": {
      "text/plain": [
       "'Name: f8/, Last Modified: 2025-02-24 00:53, Size: -'"
      ]
     },
     "metadata": {},
     "output_type": "display_data"
    },
    {
     "data": {
      "text/plain": [
       "'Name: f9/, Last Modified: 2025-02-23 21:54, Size: -'"
      ]
     },
     "metadata": {},
     "output_type": "display_data"
    },
    {
     "data": {
      "text/plain": [
       "'Name: fa/, Last Modified: 2025-02-22 22:59, Size: -'"
      ]
     },
     "metadata": {},
     "output_type": "display_data"
    },
    {
     "data": {
      "text/plain": [
       "'Name: fb/, Last Modified: 2025-02-22 13:54, Size: -'"
      ]
     },
     "metadata": {},
     "output_type": "display_data"
    },
    {
     "data": {
      "text/plain": [
       "'Name: fc/, Last Modified: 2025-02-24 04:52, Size: -'"
      ]
     },
     "metadata": {},
     "output_type": "display_data"
    },
    {
     "data": {
      "text/plain": [
       "'Name: fd/, Last Modified: 2025-02-23 14:53, Size: -'"
      ]
     },
     "metadata": {},
     "output_type": "display_data"
    },
    {
     "data": {
      "text/plain": [
       "'Name: fe/, Last Modified: 2025-02-24 14:53, Size: -'"
      ]
     },
     "metadata": {},
     "output_type": "display_data"
    },
    {
     "data": {
      "text/plain": [
       "'Name: ff/, Last Modified: 2025-02-22 08:52, Size: -'"
      ]
     },
     "metadata": {},
     "output_type": "display_data"
    },
    {
     "data": {
      "text/plain": [
       "'Name: fifo-cronolog-1.1.1.tar.bz2, Last Modified: 2010-10-11 20:45, Size: 3.1K'"
      ]
     },
     "metadata": {},
     "output_type": "display_data"
    },
    {
     "data": {
      "text/plain": [
       "'Name: fifo-cronolog-1.2.3.tar.gz, Last Modified: 2024-03-13 05:20, Size: 4.4K'"
      ]
     },
     "metadata": {},
     "output_type": "display_data"
    },
    {
     "data": {
      "text/plain": [
       "'Name: floppym-test.txt, Last Modified: 2024-03-13 19:23, Size: 15'"
      ]
     },
     "metadata": {},
     "output_type": "display_data"
    },
    {
     "data": {
      "text/plain": [
       "'Name: layout.conf, Last Modified: 2023-09-14 05:29, Size: 38'"
      ]
     },
     "metadata": {},
     "output_type": "display_data"
    },
    {
     "data": {
      "text/plain": [
       "'Name: safecat-1.13-clang-fixes.patch, Last Modified: 2024-11-30 17:04, Size: 35K'"
      ]
     },
     "metadata": {},
     "output_type": "display_data"
    },
    {
     "data": {
      "text/plain": [
       "'Name: smartctl_exporter-0.12.0-vendor.tar.xz, Last Modified: 2024-05-16 05:40, Size: 1.3M'"
      ]
     },
     "metadata": {},
     "output_type": "display_data"
    },
    {
     "data": {
      "text/plain": [
       "'Name: timestamp.dev-local, Last Modified: 2025-02-25 08:45, Size: 49'"
      ]
     },
     "metadata": {},
     "output_type": "display_data"
    },
    {
     "data": {
      "text/plain": [
       "'Name: timestamp.mirmon, Last Modified: 2025-02-25 08:54, Size: 11'"
      ]
     },
     "metadata": {},
     "output_type": "display_data"
    }
   ],
   "source": [
    "def get_gentoo_distfiles(url):\n",
    "\n",
    "    \"\"\"\n",
    "    Scrapes and retrieves a list of all files under a given URL.\n",
    "    \"\"\"\n",
    "    try:\n",
    "        page = requests.get(url).text #Extract web page as text\n",
    "        data = BeautifulSoup(page,'html.parser') #Parse the text into an HTML object\n",
    "        \n",
    "        files = [] # entries\n",
    "\n",
    "        for row in data.find_all('tr')[1:]:  # Skip header row\n",
    "            columns = row.find_all('td')\n",
    "            if columns:\n",
    "                name = columns[1].text.strip() # Get the name of the file or directory\n",
    "                last_modified = columns[2].text.strip() # Get the last modified date\n",
    "                size = columns[3].text.strip()  # Get the size\n",
    "\n",
    "                # Skip unwanted\n",
    "                if name.lower() == \"parent directory\" or name == \"\":\n",
    "                    continue\n",
    "\n",
    "                files.append({'name': name, 'last_modified': last_modified, 'size': size})\n",
    "        \n",
    "        return files\n",
    "    \n",
    "    except requests.exceptions.RequestException as e:\n",
    "        print(f\"Error fetching URL {url}: {e}\")\n",
    "        return []\n",
    "\n",
    "# Scrape the main directory\n",
    "files_list = get_gentoo_distfiles(base_url)\n",
    "\n",
    "# Print the results\n",
    "for file_info in files_list:\n",
    "    display(f\"Name: {file_info['name']}, Last Modified: {file_info['last_modified']}, Size: {file_info['size']}\")\n",
    "\n",
    "# Save results to a CSV file\n",
    "\n",
    "df = pd.DataFrame(files_list)\n",
    "df.to_csv(output_filename, index=False)\n"
   ]
  },
  {
   "cell_type": "markdown",
   "metadata": {},
   "source": [
    "## SQL Question\n",
    "\n",
    "### We have:\n",
    "\n",
    "### ● a machine learning binary classifier which takes as input an image and outputs the image quality score (from 0 to 1, where scores closer to 0 represent low-quality images, and scores closer to 1 represent high-quality images).\n",
    "\n",
    "### ● a SQL table containing 1M unlabeled images. We run each of these images through our machine learning model to get float scores from 0 to 1 for each image. We want to prepare a new training set with some of these unlabeled images. An example of unlabeled_image_predictions (1M rows) is shown below:\n",
    "\n",
    "\n",
    "| image_id | score |\n",
    "|---|---|\n",
    "| 242 | 0.23 |\n",
    "| 123 | 0.92 |\n",
    "| 248 | 0.88 |\n",
    "| ... | ... | \n",
    "\n",
    "### Our sampling strategy is to order the images in decreasing order of scores and sample every 3rd image starting with the first from the beginning until we get 10k positive samples. And we would like to do the same in the other direction, starting from the end to get 10k negative samples.\n",
    "\n",
    "#### Task: \n",
    "\n",
    "Write a SQL query that performs this sampling and creates the expected output\n",
    "ordered by image_id with integer columns image_id, weak_label.\n",
    "\n",
    "Feel free to develop in DB-Fiddle [DB-Fiddle](https://www.db-fiddle.com/) with PostgresSQL v12 or your own sql sandbox\n",
    "\n",
    "![image3](../Screenshot%202025-02-24%20225517.png)\n"
   ]
  },
  {
   "cell_type": "markdown",
   "metadata": {},
   "source": [
    "### SOLUTION\n",
    "\n",
    "Using `Sqlite3` to perform the sampling and create the desired output using `SQL`. Since we want to `sample in two directions`, the solution requires a `common table expression (CTE)` and `window functions`.\n",
    "\n",
    "The query assumes there are at least `20,000 rows` in the `unlabeled_image_predictions table` to get `10,000 samples` in each direction. The modulo value in the WHERE clauses `WHERE rn_desc % 3 = 1 - selects 1 in 3 samples`\n",
    "\n",
    "This type of sampling is useful for reducing a large dataset to a smaller, more manageable size while attempting to maintain some representation of the overall data distribution.  In this particular case, it selects approximately one-third of the images ordered by their score in descending order.\n",
    "\n",
    "**Defining a threshold for what constitutes \"close\" to 1 and 0. I assume:**\n",
    "\n",
    "- Scores greater than or equal to 0.75 will be considered high-quality.\n",
    "- Scores less than or equal to 0.25 will be considered low-quality."
   ]
  },
  {
   "cell_type": "code",
   "execution_count": 1,
   "metadata": {},
   "outputs": [],
   "source": [
    "import sqlite3\n",
    "import pandas as pd\n",
    "from datetime import datetime "
   ]
  },
  {
   "cell_type": "code",
   "execution_count": 5,
   "metadata": {},
   "outputs": [],
   "source": [
    "db_name = 'ml.db'\n",
    "table_name = 'unlabeled_image_predictions'\n",
    "csv_path = './ml_data.csv'\n",
    "db_log_file = './log.txt'"
   ]
  },
  {
   "cell_type": "code",
   "execution_count": 6,
   "metadata": {},
   "outputs": [],
   "source": [
    "def log_progress(message): \n",
    "    timestamp_format = '%Y-%h-%d-%H:%M:%S' # Year-Monthname-Day-Hour-Minute-Second \n",
    "    now = datetime.now() # get current timestamp \n",
    "    timestamp = now.strftime(timestamp_format) \n",
    "    with open(db_log_file,\"a\") as f: \n",
    "        f.write(timestamp + ' : ' + message + '\\n')"
   ]
  },
  {
   "cell_type": "code",
   "execution_count": 7,
   "metadata": {},
   "outputs": [],
   "source": [
    "# function to run query against the ml.db\n",
    "def run_query(query_statement, sql_connection):\n",
    "    display(\"Query Statement\", query_statement)\n",
    "    query_output = pd.read_sql(query_statement, sql_connection)\n",
    "    display(\"Query Output:\", query_output)"
   ]
  },
  {
   "cell_type": "code",
   "execution_count": 8,
   "metadata": {},
   "outputs": [
    {
     "data": {
      "text/plain": [
       "'Data:'"
      ]
     },
     "metadata": {},
     "output_type": "display_data"
    },
    {
     "data": {
      "text/html": [
       "<div>\n",
       "<style scoped>\n",
       "    .dataframe tbody tr th:only-of-type {\n",
       "        vertical-align: middle;\n",
       "    }\n",
       "\n",
       "    .dataframe tbody tr th {\n",
       "        vertical-align: top;\n",
       "    }\n",
       "\n",
       "    .dataframe thead th {\n",
       "        text-align: right;\n",
       "    }\n",
       "</style>\n",
       "<table border=\"1\" class=\"dataframe\">\n",
       "  <thead>\n",
       "    <tr style=\"text-align: right;\">\n",
       "      <th></th>\n",
       "      <th>image_id</th>\n",
       "      <th>score</th>\n",
       "    </tr>\n",
       "  </thead>\n",
       "  <tbody>\n",
       "    <tr>\n",
       "      <th>0</th>\n",
       "      <td>242</td>\n",
       "      <td>0.23</td>\n",
       "    </tr>\n",
       "    <tr>\n",
       "      <th>1</th>\n",
       "      <td>123</td>\n",
       "      <td>0.92</td>\n",
       "    </tr>\n",
       "    <tr>\n",
       "      <th>2</th>\n",
       "      <td>248</td>\n",
       "      <td>0.88</td>\n",
       "    </tr>\n",
       "    <tr>\n",
       "      <th>3</th>\n",
       "      <td>100</td>\n",
       "      <td>0.10</td>\n",
       "    </tr>\n",
       "    <tr>\n",
       "      <th>4</th>\n",
       "      <td>500</td>\n",
       "      <td>0.95</td>\n",
       "    </tr>\n",
       "    <tr>\n",
       "      <th>5</th>\n",
       "      <td>300</td>\n",
       "      <td>0.85</td>\n",
       "    </tr>\n",
       "    <tr>\n",
       "      <th>6</th>\n",
       "      <td>400</td>\n",
       "      <td>0.75</td>\n",
       "    </tr>\n",
       "    <tr>\n",
       "      <th>7</th>\n",
       "      <td>600</td>\n",
       "      <td>0.98</td>\n",
       "    </tr>\n",
       "    <tr>\n",
       "      <th>8</th>\n",
       "      <td>700</td>\n",
       "      <td>0.82</td>\n",
       "    </tr>\n",
       "    <tr>\n",
       "      <th>9</th>\n",
       "      <td>800</td>\n",
       "      <td>0.15</td>\n",
       "    </tr>\n",
       "    <tr>\n",
       "      <th>10</th>\n",
       "      <td>900</td>\n",
       "      <td>0.25</td>\n",
       "    </tr>\n",
       "    <tr>\n",
       "      <th>11</th>\n",
       "      <td>1000</td>\n",
       "      <td>0.35</td>\n",
       "    </tr>\n",
       "    <tr>\n",
       "      <th>12</th>\n",
       "      <td>1100</td>\n",
       "      <td>0.99</td>\n",
       "    </tr>\n",
       "    <tr>\n",
       "      <th>13</th>\n",
       "      <td>1200</td>\n",
       "      <td>0.05</td>\n",
       "    </tr>\n",
       "  </tbody>\n",
       "</table>\n",
       "</div>"
      ],
      "text/plain": [
       "    image_id  score\n",
       "0        242   0.23\n",
       "1        123   0.92\n",
       "2        248   0.88\n",
       "3        100   0.10\n",
       "4        500   0.95\n",
       "5        300   0.85\n",
       "6        400   0.75\n",
       "7        600   0.98\n",
       "8        700   0.82\n",
       "9        800   0.15\n",
       "10       900   0.25\n",
       "11      1000   0.35\n",
       "12      1100   0.99\n",
       "13      1200   0.05"
      ]
     },
     "metadata": {},
     "output_type": "display_data"
    },
    {
     "data": {
      "text/plain": [
       "'Data sorted in descending order based on Score'"
      ]
     },
     "metadata": {},
     "output_type": "display_data"
    },
    {
     "data": {
      "text/html": [
       "<div>\n",
       "<style scoped>\n",
       "    .dataframe tbody tr th:only-of-type {\n",
       "        vertical-align: middle;\n",
       "    }\n",
       "\n",
       "    .dataframe tbody tr th {\n",
       "        vertical-align: top;\n",
       "    }\n",
       "\n",
       "    .dataframe thead th {\n",
       "        text-align: right;\n",
       "    }\n",
       "</style>\n",
       "<table border=\"1\" class=\"dataframe\">\n",
       "  <thead>\n",
       "    <tr style=\"text-align: right;\">\n",
       "      <th></th>\n",
       "      <th>image_id</th>\n",
       "      <th>score</th>\n",
       "    </tr>\n",
       "  </thead>\n",
       "  <tbody>\n",
       "    <tr>\n",
       "      <th>12</th>\n",
       "      <td>1100</td>\n",
       "      <td>0.99</td>\n",
       "    </tr>\n",
       "    <tr>\n",
       "      <th>7</th>\n",
       "      <td>600</td>\n",
       "      <td>0.98</td>\n",
       "    </tr>\n",
       "    <tr>\n",
       "      <th>4</th>\n",
       "      <td>500</td>\n",
       "      <td>0.95</td>\n",
       "    </tr>\n",
       "    <tr>\n",
       "      <th>1</th>\n",
       "      <td>123</td>\n",
       "      <td>0.92</td>\n",
       "    </tr>\n",
       "    <tr>\n",
       "      <th>2</th>\n",
       "      <td>248</td>\n",
       "      <td>0.88</td>\n",
       "    </tr>\n",
       "    <tr>\n",
       "      <th>5</th>\n",
       "      <td>300</td>\n",
       "      <td>0.85</td>\n",
       "    </tr>\n",
       "    <tr>\n",
       "      <th>8</th>\n",
       "      <td>700</td>\n",
       "      <td>0.82</td>\n",
       "    </tr>\n",
       "    <tr>\n",
       "      <th>6</th>\n",
       "      <td>400</td>\n",
       "      <td>0.75</td>\n",
       "    </tr>\n",
       "    <tr>\n",
       "      <th>11</th>\n",
       "      <td>1000</td>\n",
       "      <td>0.35</td>\n",
       "    </tr>\n",
       "    <tr>\n",
       "      <th>10</th>\n",
       "      <td>900</td>\n",
       "      <td>0.25</td>\n",
       "    </tr>\n",
       "    <tr>\n",
       "      <th>0</th>\n",
       "      <td>242</td>\n",
       "      <td>0.23</td>\n",
       "    </tr>\n",
       "    <tr>\n",
       "      <th>9</th>\n",
       "      <td>800</td>\n",
       "      <td>0.15</td>\n",
       "    </tr>\n",
       "    <tr>\n",
       "      <th>3</th>\n",
       "      <td>100</td>\n",
       "      <td>0.10</td>\n",
       "    </tr>\n",
       "    <tr>\n",
       "      <th>13</th>\n",
       "      <td>1200</td>\n",
       "      <td>0.05</td>\n",
       "    </tr>\n",
       "  </tbody>\n",
       "</table>\n",
       "</div>"
      ],
      "text/plain": [
       "    image_id  score\n",
       "12      1100   0.99\n",
       "7        600   0.98\n",
       "4        500   0.95\n",
       "1        123   0.92\n",
       "2        248   0.88\n",
       "5        300   0.85\n",
       "8        700   0.82\n",
       "6        400   0.75\n",
       "11      1000   0.35\n",
       "10       900   0.25\n",
       "0        242   0.23\n",
       "9        800   0.15\n",
       "3        100   0.10\n",
       "13      1200   0.05"
      ]
     },
     "metadata": {},
     "output_type": "display_data"
    },
    {
     "data": {
      "text/plain": [
       "'Query Statement'"
      ]
     },
     "metadata": {},
     "output_type": "display_data"
    },
    {
     "data": {
      "text/plain": [
       "'WITH RankedImages AS (\\n    SELECT\\n        image_id,\\n        score,\\n        ROW_NUMBER() OVER (ORDER BY score DESC) AS rn_desc,\\n        ROW_NUMBER() OVER (ORDER BY score ASC) AS rn_asc\\n    FROM unlabeled_image_predictions\\n    WHERE score BETWEEN 0 AND 1\\n),\\nPositiveSamples AS (\\n    SELECT\\n        image_id,\\n        1 AS weak_label\\n    FROM RankedImages\\n    WHERE rn_desc % 3 = 1 AND score >= 0.75\\n    LIMIT 10000\\n),\\nNegativeSamples AS (\\n    SELECT\\n        image_id,\\n        0 AS weak_label\\n    FROM RankedImages\\n    WHERE rn_asc % 3 = 1 AND score <= 0.25\\n    LIMIT 10000\\n)\\nSELECT image_id, weak_label FROM PositiveSamples\\nUNION ALL\\nSELECT image_id, weak_label FROM NegativeSamples\\nORDER BY image_id\\n'"
      ]
     },
     "metadata": {},
     "output_type": "display_data"
    },
    {
     "data": {
      "text/plain": [
       "'Query Output:'"
      ]
     },
     "metadata": {},
     "output_type": "display_data"
    },
    {
     "data": {
      "text/html": [
       "<div>\n",
       "<style scoped>\n",
       "    .dataframe tbody tr th:only-of-type {\n",
       "        vertical-align: middle;\n",
       "    }\n",
       "\n",
       "    .dataframe tbody tr th {\n",
       "        vertical-align: top;\n",
       "    }\n",
       "\n",
       "    .dataframe thead th {\n",
       "        text-align: right;\n",
       "    }\n",
       "</style>\n",
       "<table border=\"1\" class=\"dataframe\">\n",
       "  <thead>\n",
       "    <tr style=\"text-align: right;\">\n",
       "      <th></th>\n",
       "      <th>image_id</th>\n",
       "      <th>weak_label</th>\n",
       "    </tr>\n",
       "  </thead>\n",
       "  <tbody>\n",
       "    <tr>\n",
       "      <th>0</th>\n",
       "      <td>123</td>\n",
       "      <td>1</td>\n",
       "    </tr>\n",
       "    <tr>\n",
       "      <th>1</th>\n",
       "      <td>242</td>\n",
       "      <td>0</td>\n",
       "    </tr>\n",
       "    <tr>\n",
       "      <th>2</th>\n",
       "      <td>700</td>\n",
       "      <td>1</td>\n",
       "    </tr>\n",
       "    <tr>\n",
       "      <th>3</th>\n",
       "      <td>1100</td>\n",
       "      <td>1</td>\n",
       "    </tr>\n",
       "    <tr>\n",
       "      <th>4</th>\n",
       "      <td>1200</td>\n",
       "      <td>0</td>\n",
       "    </tr>\n",
       "  </tbody>\n",
       "</table>\n",
       "</div>"
      ],
      "text/plain": [
       "   image_id  weak_label\n",
       "0       123           1\n",
       "1       242           0\n",
       "2       700           1\n",
       "3      1100           1\n",
       "4      1200           0"
      ]
     },
     "metadata": {},
     "output_type": "display_data"
    }
   ],
   "source": [
    "\n",
    "log_progress('Preliminaries complete. Initiating ELT process')\n",
    "\n",
    "# Read sample data\n",
    "df = pd.read_csv(csv_path)\n",
    "\n",
    "display(\"Data:\", df)\n",
    "\n",
    "# TESTING\n",
    "# Display the DataFrame sorted by score in descending order\n",
    "sorted_df = df.sort_values(by='score', ascending=False)\n",
    "\n",
    "# Display the sorted DataFrame\n",
    "display(\"Data sorted in descending order based on Score\", sorted_df)\n",
    "\n",
    "log_progress('Data extraction complete. Initiating Transformation process')\n",
    "\n",
    "# Create a SQLite database\n",
    "conn = sqlite3.connect(db_name)\n",
    "\n",
    "log_progress('SQL Connection initiated.')\n",
    "\n",
    "df.to_sql(table_name, conn, if_exists='replace', index=False)\n",
    "\n",
    "log_progress('Data loaded to Database as table. Running the query')\n",
    "\n",
    "# Execute the SQL query\n",
    "query_statement = f\"\"\"WITH RankedImages AS (\n",
    "    SELECT\n",
    "        image_id,\n",
    "        score,\n",
    "        ROW_NUMBER() OVER (ORDER BY score DESC) AS rn_desc,\n",
    "        ROW_NUMBER() OVER (ORDER BY score ASC) AS rn_asc\n",
    "    FROM {table_name}\n",
    "    WHERE score BETWEEN 0 AND 1\n",
    "),\n",
    "PositiveSamples AS (\n",
    "    SELECT\n",
    "        image_id,\n",
    "        1 AS weak_label\n",
    "    FROM RankedImages\n",
    "    WHERE rn_desc % 3 = 1 AND score >= 0.75\n",
    "    LIMIT 10000\n",
    "),\n",
    "NegativeSamples AS (\n",
    "    SELECT\n",
    "        image_id,\n",
    "        0 AS weak_label\n",
    "    FROM RankedImages\n",
    "    WHERE rn_asc % 3 = 1 AND score <= 0.25\n",
    "    LIMIT 10000\n",
    ")\n",
    "SELECT image_id, weak_label FROM PositiveSamples\n",
    "UNION ALL\n",
    "SELECT image_id, weak_label FROM NegativeSamples\n",
    "ORDER BY image_id\n",
    "\"\"\"\n",
    "run_query(query_statement, conn)\n",
    "\n",
    "log_progress('Process Complete.')\n",
    "\n",
    "# Close the connection\n",
    "conn.close()"
   ]
  }
 ],
 "metadata": {
  "kernelspec": {
   "display_name": "Python 3",
   "language": "python",
   "name": "python3"
  },
  "language_info": {
   "codemirror_mode": {
    "name": "ipython",
    "version": 3
   },
   "file_extension": ".py",
   "mimetype": "text/x-python",
   "name": "python",
   "nbconvert_exporter": "python",
   "pygments_lexer": "ipython3",
   "version": "3.10.0"
  }
 },
 "nbformat": 4,
 "nbformat_minor": 2
}
